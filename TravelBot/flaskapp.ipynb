{
 "cells": [
  {
   "cell_type": "code",
   "execution_count": 1,
   "metadata": {},
   "outputs": [
    {
     "name": "stderr",
     "output_type": "stream",
     "text": [
      "e:\\TechM\\.venv\\Lib\\site-packages\\langchain\\chains\\api\\base.py:56: LangChainDeprecationWarning: As of langchain-core 0.3.0, LangChain uses pydantic v2 internally. The langchain_core.pydantic_v1 module was a compatibility shim for pydantic v1, and should no longer be used. Please update the code to import from Pydantic directly.\n",
      "\n",
      "For example, replace imports like: `from langchain_core.pydantic_v1 import BaseModel`\n",
      "with: `from pydantic import BaseModel`\n",
      "or the v1 compatibility namespace if you are working in a code base that has not been fully upgraded to pydantic 2 yet. \tfrom pydantic.v1 import BaseModel\n",
      "\n",
      "  from langchain_community.utilities.requests import TextRequestsWrapper\n",
      "e:\\TechM\\.venv\\Lib\\site-packages\\tqdm\\auto.py:21: TqdmWarning: IProgress not found. Please update jupyter and ipywidgets. See https://ipywidgets.readthedocs.io/en/stable/user_install.html\n",
      "  from .autonotebook import tqdm as notebook_tqdm\n"
     ]
    }
   ],
   "source": [
    "import os\n",
    "from flask import Flask, render_template, request, redirect, url_for\n",
    "from langchain.agents import initialize_agent, Tool\n",
    "from langchain_google_genai import ChatGoogleGenerativeAI\n",
    "from langchain_core.messages import HumanMessage\n",
    "from langchain.chains.conversation.memory import ConversationBufferWindowMemory\n",
    "from werkzeug.utils import secure_filename\n",
    "import pandas as pd\n",
    "from openpyxl import load_workbook"
   ]
  },
  {
   "cell_type": "code",
   "execution_count": 2,
   "metadata": {},
   "outputs": [],
   "source": [
    "app = Flask(__name__)"
   ]
  },
  {
   "cell_type": "code",
   "execution_count": 3,
   "metadata": {},
   "outputs": [],
   "source": [
    "@app.route('/')\n",
    "def home():\n",
    "    return render_template('index.html')"
   ]
  },
  {
   "cell_type": "code",
   "execution_count": 4,
   "metadata": {},
   "outputs": [],
   "source": [
    "os.environ[\"GOOGLE_API_KEY\"] = \"Your gemini key here\""
   ]
  },
  {
   "cell_type": "code",
   "execution_count": 5,
   "metadata": {},
   "outputs": [],
   "source": [
    "llm_flash = ChatGoogleGenerativeAI(model='gemini-1.5-flash')\n",
    "llm_pro=ChatGoogleGenerativeAI(model='gemini-1.5-flash-8b')"
   ]
  },
  {
   "cell_type": "code",
   "execution_count": 6,
   "metadata": {},
   "outputs": [],
   "source": [
    "\n",
    "\n",
    "def field_extraction(prompt):\n",
    "    query = (\n",
    "        f\"Your task is to extract the following values from the given text: 1. Budget, 2. Duration, 3. Season, 4. Travel style (like adventure, family, cultural), 5. Food preference, 6. International destination or not, 7. Departure location. \"\n",
    "        \"Extract only the values mentioned for these fields. Do not include any additional text or information. \"\n",
    "        \"Very important: You should only extract the required fields and nothing else.\"\n",
    "    )\n",
    "    result = llm_flash.invoke(f\"{query} Input: {prompt}\")\n",
    "    extracted_info=result.content\n",
    "    info_list = extracted_info.strip().split('\\n')\n",
    "    extracted_data = {\n",
    "        \"Budget\": info_list[0],\n",
    "        \"Duration\": info_list[1],\n",
    "        \"Season\": info_list[2],\n",
    "        \"Travel Style\": info_list[3],\n",
    "        \"Food Preference\": info_list[4],  \n",
    "        \"International\": info_list[5],\n",
    "        \"Departure Location\": info_list[6]\n",
    "    }\n",
    "    df = pd.DataFrame([extracted_data])  \n",
    "    filename = \"extracted_fields.xlsx\"\n",
    "    try:\n",
    "        book = load_workbook(filename)\n",
    "        existing_df = pd.read_excel(filename)\n",
    "        updated_df = pd.concat([existing_df, df], ignore_index=True)\n",
    "        updated_df.to_excel(filename, index=False)\n",
    "        print(\"Data updated in 'extracted_fields.xlsx'\")\n",
    "    except FileNotFoundError:\n",
    "        df.to_excel(filename, index=False)\n",
    "        print(f\"Data saved to a new file: '{filename}'\")\n",
    "\n"
   ]
  },
  {
   "cell_type": "code",
   "execution_count": 7,
   "metadata": {},
   "outputs": [],
   "source": [
    "def validate_prompt_recommendation(prompt):\n",
    "    query=(\n",
    "        f\"Your task is to validate the {prompt} if user has provided these info or not\",\n",
    "        \"Information to validate: Budget, Duration, season, travel style (like adventure, family, cultural), food prefrence, international destination or not, departure location\",\n",
    "        \"Just validate it on these info ask nothing else\"\n",
    "    )\n",
    "    validated=llm_flash.invoke(query)\n",
    "    return validated\n",
    "\n",
    "def recommendation_prompt(prompt):\n",
    "    query = (\n",
    "        f\"Your task is to provide top 5 location to visit based on {prompt}, nothing else.\"\n",
    "    )\n",
    "    response = llm_flash.invoke(query)  \n",
    "    return response"
   ]
  },
  {
   "cell_type": "code",
   "execution_count": 8,
   "metadata": {},
   "outputs": [],
   "source": [
    "prompt_validation_recommendation_tool=Tool(\n",
    "    name='Prompt Validation Tool',\n",
    "    func=validate_prompt_recommendation,\n",
    "    description='The task it to validate if the prompt contains all the necessary information to predict travel cost or not'\n",
    ")\n",
    "recommendation_tool=Tool(\n",
    "    name='Travel Cost Prediction Tool',\n",
    "    func=recommendation_prompt,\n",
    "    description='The task is to recommend places based on the prompt provided by the user'\n",
    ")"
   ]
  },
  {
   "cell_type": "code",
   "execution_count": 9,
   "metadata": {},
   "outputs": [],
   "source": [
    "def validate_prompt_prediction(prompt):\n",
    "    query=(\n",
    "        f\"Your task is to validate the {prompt} if user has provided these info or not\",\n",
    "        \"Information to validate: Departure and Arrival country Mode of transport, Number of Days, Number of family members, Type of Hotel, Time of the year travelling if even one of these information is missing just return not validated\",\n",
    "        \"Just provide output as validated or not validated nothing else\",\n",
    "    )\n",
    "    validated=llm_flash.invoke(query)\n",
    "    return validated\n",
    "\n",
    "def predict_travel_cost(prompt):\n",
    "    query = (\n",
    "        f\"Your task is to give an estimated cost based on {prompt}, nothing else.\",\n",
    "        \"Very Important (Just predict a estimated cost. Predict cost in every case once the prompt is validated nothing else just estimated price)\"\n",
    "    )\n",
    "    response = llm_flash.invoke(query)  \n",
    "    return response"
   ]
  },
  {
   "cell_type": "code",
   "execution_count": 10,
   "metadata": {},
   "outputs": [],
   "source": [
    "prompt_validation_prediction_tool = Tool(\n",
    "    name='Prompt Validation Tool',\n",
    "    func=validate_prompt_prediction,\n",
    "    description='The task is to validate if the prompt contains all the necessary information to predict travel cost or not'\n",
    ")\n",
    "cost_prediction_tool = Tool(\n",
    "    name='Travel Cost Prediction Tool',\n",
    "    func=predict_travel_cost,\n",
    "    description='The task is to predict the total cost of travelling from one place to another based on the prompt provided by the user'\n",
    ")"
   ]
  },
  {
   "cell_type": "code",
   "execution_count": 11,
   "metadata": {},
   "outputs": [],
   "source": [
    "def validate_image(image_data):\n",
    "    message = HumanMessage(\n",
    "    content=[\n",
    "        {\"type\": \"text\", \"text\": \"Your task is to validate the image provided to you if the image if there are existing tourist destination on earth similar to image. VERY IMPORTATNT (make sure to answer only in yes or no)\"},\n",
    "        {\n",
    "            \"type\": \"image_url\",\n",
    "            \"image_url\": {\"url\": f\"data:image/jpeg;base64,{image_data}\"},\n",
    "        },\n",
    "    ],\n",
    "    )\n",
    "    response = llm_pro.invoke([message])\n",
    "    return response.content\n",
    "def recommend_places_image(image_data):\n",
    "    message = HumanMessage(\n",
    "    content=[\n",
    "        {\"type\": \"text\", \"text\": \"Your task is to recommend similar places to travel according to the image provided below. Give top 5 similar places matching to this just give these places as output nothing else.\"},\n",
    "        {\n",
    "            \"type\": \"image_url\",\n",
    "            \"image_url\": {\"url\": f\"data:image/jpeg;base64,{image_data}\"},\n",
    "        },\n",
    "    ],\n",
    "    )\n",
    "    response = llm_pro.invoke([message])\n",
    "    return response.content\n"
   ]
  },
  {
   "cell_type": "code",
   "execution_count": 12,
   "metadata": {},
   "outputs": [],
   "source": [
    "import base64\n",
    "def read_image(path):\n",
    "    image_path = path\n",
    "    with open(image_path, 'rb') as image_file:\n",
    "        image_data = base64.b64encode(image_file.read()).decode(\"utf-8\")\n",
    "    return image_data"
   ]
  },
  {
   "cell_type": "code",
   "execution_count": 13,
   "metadata": {},
   "outputs": [
    {
     "name": "stderr",
     "output_type": "stream",
     "text": [
      "C:\\Users\\ishaa\\AppData\\Local\\Temp\\ipykernel_52796\\1141510932.py:1: LangChainDeprecationWarning: Please see the migration guide at: https://python.langchain.com/docs/versions/migrating_memory/\n",
      "  memory = ConversationBufferWindowMemory(\n",
      "C:\\Users\\ishaa\\AppData\\Local\\Temp\\ipykernel_52796\\1141510932.py:6: LangChainDeprecationWarning: The function `initialize_agent` was deprecated in LangChain 0.1.0 and will be removed in 1.0. Use :meth:`~Use new agent constructor methods like create_react_agent, create_json_agent, create_structured_chat_agent, etc.` instead.\n",
      "  conversational_agent_recommendation = initialize_agent(\n"
     ]
    }
   ],
   "source": [
    "memory = ConversationBufferWindowMemory(\n",
    "    memory_key='chat_history',\n",
    "    k=3,\n",
    "    return_messages=True\n",
    ")\n",
    "conversational_agent_recommendation = initialize_agent(\n",
    "    agent='chat-conversational-react-description',\n",
    "    tools=[prompt_validation_recommendation_tool, recommendation_tool],\n",
    "    llm=llm_flash,\n",
    "    verbose=True,\n",
    "    max_iterations=3,\n",
    "    memory=memory\n",
    ")\n",
    "conversational_agent_prediction = initialize_agent(\n",
    "    agent='chat-conversational-react-description',\n",
    "    tools=[prompt_validation_prediction_tool, cost_prediction_tool],\n",
    "    llm=llm_flash,\n",
    "    verbose=True,\n",
    "    max_iterations=3,\n",
    "    memory=memory\n",
    ")\n"
   ]
  },
  {
   "cell_type": "code",
   "execution_count": 14,
   "metadata": {},
   "outputs": [],
   "source": [
    "@app.route('/', methods=['GET', 'POST'])\n",
    "def index():\n",
    "    result = None\n",
    "    if request.method == 'POST':\n",
    "        prompt = request.form['prompt']\n",
    "        validation_result = conversational_agent_recommendation.run(f\"Validate the prompt if this contains all the info as provided to the tool: {prompt}\")\n",
    "        if \"not\" in validation_result:\n",
    "            result = f\"Prompt validation failed. Please provide more details. {validation_result}\"\n",
    "        else:\n",
    "            field_extraction(prompt)\n",
    "            result = conversational_agent_recommendation.run(f\"Now recommend places according to tool: {prompt} \")\n",
    "    return render_template('index.html', result=result)\n",
    "\n",
    "@app.route('/costprediction',methods=['GET','POST'])\n",
    "def costprediction():\n",
    "    result = None\n",
    "    if request.method == 'POST':\n",
    "        prompt = request.form['prompt']\n",
    "        validation_result = conversational_agent_prediction.run(f\"Validate the prompt: {prompt}\")\n",
    "        if \"not\" in validation_result:\n",
    "            result= f\"Prompt validation failed. Please provide more details. {validation_result}\"\n",
    "        else:\n",
    "            result = conversational_agent_prediction.run(f\"Predict the cost for: {prompt} as the validation tool already validated it\")\n",
    "    return render_template('costprediction.html', result=result)\n",
    "\n",
    "@app.route('/recommendationusingimage', methods=['GET', 'POST'])\n",
    "def recommendationusingimage():\n",
    "    result = None\n",
    "    if request.method == 'POST':\n",
    "        prompt = request.form.get('prompt', '')  \n",
    "        if 'image' in request.files:\n",
    "            image_file = request.files['image']\n",
    "            if image_file and image_file.filename:\n",
    "                filename = secure_filename(image_file.filename)\n",
    "                image_data = base64.b64encode(image_file.read()).decode(\"utf-8\")\n",
    "                validation_result = validate_image(image_data)\n",
    "                if \"yes\" in validation_result.lower() or \"validated\" in validation_result.lower():\n",
    "                    prediction_result = recommend_places_image(image_data)\n",
    "                    result = prediction_result\n",
    "                else:\n",
    "                    result = f\"Image validation failed: {validation_result}\"\n",
    "            else:\n",
    "                result = \"No image uploaded.\"\n",
    "    \n",
    "    return render_template('uploadimage.html', result=result)\n",
    "\n",
    "\n",
    "def ask_gemini(question):\n",
    "    answer = llm_flash.invoke(question)\n",
    "    return answer  \n",
    "@app.route('/chatbot', methods=['GET', 'POST'])\n",
    "def chatbot():\n",
    "    result = None\n",
    "    if request.method == 'POST':\n",
    "        prompt = request.form['prompt']  # Get the user input from the form\n",
    "        if prompt.strip().lower() == \"end\":\n",
    "            result = \"Ending the conversation. Goodbye!\"\n",
    "            return render_template('chatbot.html', result=result)\n",
    "        else:\n",
    "            response = ask_gemini(prompt)  # Call the Gemini API with the prompt\n",
    "            result = response.content\n",
    "            return render_template('chatbot.html', result=result)\n",
    "    \n",
    "    return render_template('chatbot.html')"
   ]
  },
  {
   "cell_type": "code",
   "execution_count": null,
   "metadata": {},
   "outputs": [
    {
     "name": "stdout",
     "output_type": "stream",
     "text": [
      " * Serving Flask app '__main__'\n",
      " * Debug mode: off\n"
     ]
    },
    {
     "name": "stderr",
     "output_type": "stream",
     "text": [
      "WARNING: This is a development server. Do not use it in a production deployment. Use a production WSGI server instead.\n",
      " * Running on http://127.0.0.1:5000\n",
      "Press CTRL+C to quit\n",
      "127.0.0.1 - - [19/Oct/2024 22:06:46] \"GET / HTTP/1.1\" 200 -\n",
      "127.0.0.1 - - [19/Oct/2024 22:06:47] \"GET /favicon.ico HTTP/1.1\" 404 -\n",
      "C:\\Users\\ishaa\\AppData\\Local\\Temp\\ipykernel_52796\\3077077752.py:6: LangChainDeprecationWarning: The method `Chain.run` was deprecated in langchain 0.1.0 and will be removed in 1.0. Use :meth:`~invoke` instead.\n",
      "  validation_result = conversational_agent_recommendation.run(f\"Validate the prompt if this contains all the info as provided to the tool: {prompt}\")\n"
     ]
    },
    {
     "name": "stdout",
     "output_type": "stream",
     "text": [
      "\n",
      "\n",
      "\u001b[1m> Entering new AgentExecutor chain...\u001b[0m\n",
      "\u001b[32;1m\u001b[1;3m```json\n",
      "{\n",
      " \"action\": \"Prompt Validation Tool\",\n",
      " \"action_input\": \"recommend me places to visit for adventure during summer from rishikesh no international travel with a budget of 50k for a week and the food preference is veg only\"\n",
      "}\n",
      "```\u001b[0m\n",
      "Observation: \u001b[36;1m\u001b[1;3mcontent='The information provided is sufficient for validation. It includes:\\n\\n* **Budget:** 50k\\n* **Duration:** 1 week\\n* **Season:** Summer\\n* **Travel Style:** Adventure\\n* **Food Preference:** Veg\\n* **International Travel:** No\\n* **Departure Location:** Rishikesh \\n' additional_kwargs={} response_metadata={'prompt_feedback': {'block_reason': 0, 'safety_ratings': []}, 'finish_reason': 'STOP', 'safety_ratings': [{'category': 'HARM_CATEGORY_SEXUALLY_EXPLICIT', 'probability': 'NEGLIGIBLE', 'blocked': False}, {'category': 'HARM_CATEGORY_HATE_SPEECH', 'probability': 'NEGLIGIBLE', 'blocked': False}, {'category': 'HARM_CATEGORY_HARASSMENT', 'probability': 'NEGLIGIBLE', 'blocked': False}, {'category': 'HARM_CATEGORY_DANGEROUS_CONTENT', 'probability': 'NEGLIGIBLE', 'blocked': False}]} id='run-8c2e9b8d-1b76-4a47-b529-9ce9c8a2ebfb-0' usage_metadata={'input_tokens': 91, 'output_tokens': 63, 'total_tokens': 154}\u001b[0m\n",
      "Thought:\u001b[32;1m\u001b[1;3m```json\n",
      "{\n",
      " \"action\": \"Final Answer\",\n",
      " \"action_input\": \"The prompt you provided contains all the necessary information to recommend places for adventure travel. It includes your budget, travel duration, preferred season, travel style, food preference, international travel restriction, and starting location.\"\n",
      "}\n",
      "```\u001b[0m\n",
      "\n",
      "\u001b[1m> Finished chain.\u001b[0m\n",
      "Data updated in 'extracted_fields.xlsx'\n",
      "\n",
      "\n",
      "\u001b[1m> Entering new AgentExecutor chain...\u001b[0m\n",
      "\u001b[32;1m\u001b[1;3m```json\n",
      "{\n",
      "  \"action\": \"Prompt Validation Tool\",\n",
      "  \"action_input\": \"recommend me places to visit for adventure during summer from rishikesh no international travel with a budget of 50k for a week and the food preference is veg only\"\n",
      "}\n",
      "```\n",
      "\u001b[0m\n",
      "Observation: \u001b[36;1m\u001b[1;3mcontent=\"The provided information is sufficient for validation. \\n\\n**Here's what we have:**\\n\\n* **Budget:** 50k\\n* **Duration:** 1 week\\n* **Season:** Summer\\n* **Travel Style:** Adventure\\n* **Food Preference:** Veg\\n* **International Travel:** No\\n* **Departure Location:** Rishikesh (implied) \\n\\n**Validation:**\\n\\n* **All necessary information is present.** We have details on budget, duration, season, travel style, food preference, and international travel. \\n* **Information is consistent.** There are no conflicting details. \\n* **Information is relevant.** The information provided is directly relevant to planning an adventure trip. \\n\\n**Overall, the information is valid and sufficient for recommending adventure places to visit from Rishikesh during summer.** \\n\" additional_kwargs={} response_metadata={'prompt_feedback': {'block_reason': 0, 'safety_ratings': []}, 'finish_reason': 'STOP', 'safety_ratings': [{'category': 'HARM_CATEGORY_SEXUALLY_EXPLICIT', 'probability': 'NEGLIGIBLE', 'blocked': False}, {'category': 'HARM_CATEGORY_HATE_SPEECH', 'probability': 'NEGLIGIBLE', 'blocked': False}, {'category': 'HARM_CATEGORY_HARASSMENT', 'probability': 'NEGLIGIBLE', 'blocked': False}, {'category': 'HARM_CATEGORY_DANGEROUS_CONTENT', 'probability': 'NEGLIGIBLE', 'blocked': False}]} id='run-7510583c-38c8-4c5f-af16-49071011e313-0' usage_metadata={'input_tokens': 91, 'output_tokens': 165, 'total_tokens': 256}\u001b[0m\n",
      "Thought:"
     ]
    },
    {
     "name": "stderr",
     "output_type": "stream",
     "text": [
      "127.0.0.1 - - [19/Oct/2024 22:07:14] \"POST / HTTP/1.1\" 200 -\n"
     ]
    },
    {
     "name": "stdout",
     "output_type": "stream",
     "text": [
      "\u001b[32;1m\u001b[1;3m```json\n",
      "{\n",
      "  \"action\": \"Final Answer\",\n",
      "  \"action_input\": \"Based on your budget, time frame, and preference for adventure travel in the summer, here are some places you can visit from Rishikesh, focusing on vegetarian options: \\n\\n* **Valley of Flowers National Park:** A stunning trek with vibrant wildflowers, located in Uttarakhand, reachable from Rishikesh. You can find vegetarian food at guesthouses and local restaurants along the trek.\\n* **Jim Corbett National Park:**  Explore the wildlife in this national park, famous for its tigers, elephants, and other wildlife. Numerous vegetarian options are available at resorts and hotels within the park.\\n* **Auli:**  Known for its scenic beauty and skiing opportunities during winters, Auli offers stunning mountain views and adventure activities in the summer. You can find vegetarian food at restaurants and hotels in Auli.\\n* **Chopta:**  A scenic village in Uttarakhand, known for its breathtaking views of the Himalayas and trekking trails. You can find vegetarian food at local restaurants and homestays in Chopta. \\n\\nRemember to plan your trip in advance, book accommodations, and pack accordingly for the weather and activities. Enjoy your adventure!\"\n",
      "}\n",
      "```\u001b[0m\n",
      "\n",
      "\u001b[1m> Finished chain.\u001b[0m\n"
     ]
    },
    {
     "name": "stderr",
     "output_type": "stream",
     "text": [
      "127.0.0.1 - - [19/Oct/2024 22:08:05] \"GET /recommendationusingimage HTTP/1.1\" 200 -\n",
      "127.0.0.1 - - [19/Oct/2024 22:08:27] \"POST /recommendationusingimage HTTP/1.1\" 200 -\n",
      "127.0.0.1 - - [19/Oct/2024 22:09:06] \"POST /recommendationusingimage HTTP/1.1\" 200 -\n",
      "127.0.0.1 - - [19/Oct/2024 22:09:15] \"GET /costprediction HTTP/1.1\" 200 -\n"
     ]
    },
    {
     "name": "stdout",
     "output_type": "stream",
     "text": [
      "\n",
      "\n",
      "\u001b[1m> Entering new AgentExecutor chain...\u001b[0m\n",
      "\u001b[32;1m\u001b[1;3m```json\n",
      "{\n",
      "    \"action\": \"Prompt Validation Tool\",\n",
      "    \"action_input\": \"I want to travel from paris to rome\"\n",
      "}\n",
      "```\n",
      "\u001b[0m\n",
      "Observation: \u001b[36;1m\u001b[1;3mcontent='not validated \\n' additional_kwargs={} response_metadata={'prompt_feedback': {'block_reason': 0, 'safety_ratings': []}, 'finish_reason': 'STOP', 'safety_ratings': [{'category': 'HARM_CATEGORY_SEXUALLY_EXPLICIT', 'probability': 'NEGLIGIBLE', 'blocked': False}, {'category': 'HARM_CATEGORY_HATE_SPEECH', 'probability': 'NEGLIGIBLE', 'blocked': False}, {'category': 'HARM_CATEGORY_HARASSMENT', 'probability': 'NEGLIGIBLE', 'blocked': False}, {'category': 'HARM_CATEGORY_DANGEROUS_CONTENT', 'probability': 'NEGLIGIBLE', 'blocked': False}]} id='run-cdca5697-2bd8-4bc3-84fa-fb7cd5e190cc-0' usage_metadata={'input_tokens': 77, 'output_tokens': 2, 'total_tokens': 79}\u001b[0m\n",
      "Thought:"
     ]
    },
    {
     "name": "stderr",
     "output_type": "stream",
     "text": [
      "127.0.0.1 - - [19/Oct/2024 22:09:22] \"POST /costprediction HTTP/1.1\" 200 -\n"
     ]
    },
    {
     "name": "stdout",
     "output_type": "stream",
     "text": [
      "\u001b[32;1m\u001b[1;3m```json\n",
      "{\n",
      "    \"action\": \"Final Answer\",\n",
      "    \"action_input\": \"The prompt 'I want to travel from paris to rome' is not validated, meaning it doesn't contain enough information to predict the cost of travel.  To get a cost prediction, please provide more details about your trip, such as travel dates, mode of transport, and accommodation preferences.\"\n",
      "}\n",
      "```\u001b[0m\n",
      "\n",
      "\u001b[1m> Finished chain.\u001b[0m\n",
      "\n",
      "\n",
      "\u001b[1m> Entering new AgentExecutor chain...\u001b[0m\n",
      "\u001b[32;1m\u001b[1;3m```json\n",
      "{\n",
      "    \"action\": \"Prompt Validation Tool\",\n",
      "    \"action_input\": \"I want to travel from new york to delhi for 4 days with a family of 4 by flight next summer and want to  rent ut airbnb\"\n",
      "}\n",
      "```\n",
      "\u001b[0m\n",
      "Observation: \u001b[36;1m\u001b[1;3mcontent='validated \\n' additional_kwargs={} response_metadata={'prompt_feedback': {'block_reason': 0, 'safety_ratings': []}, 'finish_reason': 'STOP', 'safety_ratings': [{'category': 'HARM_CATEGORY_SEXUALLY_EXPLICIT', 'probability': 'NEGLIGIBLE', 'blocked': False}, {'category': 'HARM_CATEGORY_HATE_SPEECH', 'probability': 'NEGLIGIBLE', 'blocked': False}, {'category': 'HARM_CATEGORY_HARASSMENT', 'probability': 'NEGLIGIBLE', 'blocked': False}, {'category': 'HARM_CATEGORY_DANGEROUS_CONTENT', 'probability': 'NEGLIGIBLE', 'blocked': False}]} id='run-96b2a01e-6a0d-4593-99e8-34a1ba652676-0' usage_metadata={'input_tokens': 100, 'output_tokens': 1, 'total_tokens': 101}\u001b[0m\n",
      "Thought:\u001b[32;1m\u001b[1;3m```json\n",
      "{\n",
      "    \"action\": \"Final Answer\",\n",
      "    \"action_input\": \"The prompt you provided contains all the necessary information to predict the cost of travel. It includes your travel dates, destination, mode of transport, number of people, and accommodation preference.\"\n",
      "}\n",
      "```\u001b[0m\n",
      "\n",
      "\u001b[1m> Finished chain.\u001b[0m\n",
      "\n",
      "\n",
      "\u001b[1m> Entering new AgentExecutor chain...\u001b[0m\n",
      "\u001b[32;1m\u001b[1;3m```json\n",
      "{\n",
      "    \"action\": \"Travel Cost Prediction Tool\",\n",
      "    \"action_input\": \"I want to travel from new york to delhi for 4 days with a family of 4 by flight next summer and want to  rent ut airbnb\"\n",
      "}\n",
      "```\u001b[0m\n",
      "Observation: \u001b[33;1m\u001b[1;3mcontent='$6,000 - $8,000 \\n' additional_kwargs={} response_metadata={'prompt_feedback': {'block_reason': 0, 'safety_ratings': []}, 'finish_reason': 'STOP', 'safety_ratings': [{'category': 'HARM_CATEGORY_SEXUALLY_EXPLICIT', 'probability': 'NEGLIGIBLE', 'blocked': False}, {'category': 'HARM_CATEGORY_HATE_SPEECH', 'probability': 'NEGLIGIBLE', 'blocked': False}, {'category': 'HARM_CATEGORY_HARASSMENT', 'probability': 'NEGLIGIBLE', 'blocked': False}, {'category': 'HARM_CATEGORY_DANGEROUS_CONTENT', 'probability': 'NEGLIGIBLE', 'blocked': False}]} id='run-5899f8bc-7354-401f-b323-af2e07b6686f-0' usage_metadata={'input_tokens': 72, 'output_tokens': 13, 'total_tokens': 85}\u001b[0m\n",
      "Thought:"
     ]
    },
    {
     "name": "stderr",
     "output_type": "stream",
     "text": [
      "127.0.0.1 - - [19/Oct/2024 22:09:37] \"POST /costprediction HTTP/1.1\" 200 -\n"
     ]
    },
    {
     "name": "stdout",
     "output_type": "stream",
     "text": [
      "\u001b[32;1m\u001b[1;3m```json\n",
      "{\n",
      "    \"action\": \"Final Answer\",\n",
      "    \"action_input\": \"Based on the information provided, the estimated cost of traveling from New York to Delhi for 4 days with a family of 4 by flight next summer and renting an Airbnb would be between $6,000 and $8,000.\"\n",
      "}\n",
      "```\u001b[0m\n",
      "\n",
      "\u001b[1m> Finished chain.\u001b[0m\n"
     ]
    },
    {
     "name": "stderr",
     "output_type": "stream",
     "text": [
      "127.0.0.1 - - [19/Oct/2024 22:10:00] \"GET /chatbot HTTP/1.1\" 200 -\n",
      "127.0.0.1 - - [19/Oct/2024 22:10:21] \"POST /chatbot HTTP/1.1\" 200 -\n",
      "127.0.0.1 - - [19/Oct/2024 22:10:22] \"POST /chatbot HTTP/1.1\" 200 -\n",
      "127.0.0.1 - - [19/Oct/2024 22:10:32] \"POST /chatbot HTTP/1.1\" 200 -\n",
      "127.0.0.1 - - [19/Oct/2024 22:10:47] \"GET / HTTP/1.1\" 200 -\n"
     ]
    }
   ],
   "source": [
    "if __name__ == '__main__':\n",
    "    app.run(debug=False)"
   ]
  },
  {
   "cell_type": "code",
   "execution_count": null,
   "metadata": {},
   "outputs": [],
   "source": []
  }
 ],
 "metadata": {
  "kernelspec": {
   "display_name": ".venv",
   "language": "python",
   "name": "python3"
  },
  "language_info": {
   "codemirror_mode": {
    "name": "ipython",
    "version": 3
   },
   "file_extension": ".py",
   "mimetype": "text/x-python",
   "name": "python",
   "nbconvert_exporter": "python",
   "pygments_lexer": "ipython3",
   "version": "3.12.7"
  }
 },
 "nbformat": 4,
 "nbformat_minor": 2
}
