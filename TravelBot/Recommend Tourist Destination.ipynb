{
 "cells": [
  {
   "cell_type": "markdown",
   "metadata": {},
   "source": [
    "### Importing necessary libraries"
   ]
  },
  {
   "cell_type": "code",
   "execution_count": 43,
   "metadata": {},
   "outputs": [],
   "source": [
    "import os\n",
    "import getpass\n",
    "from langchain.agents import Tool\n",
    "from langchain.tools import BaseTool\n",
    "from langchain.agents import initialize_agent\n",
    "from langchain_google_genai import ChatGoogleGenerativeAI\n",
    "from langchain.chains.conversation.memory import ConversationBufferWindowMemory"
   ]
  },
  {
   "cell_type": "markdown",
   "metadata": {},
   "source": [
    "### Configuring gemini model(from langchain)"
   ]
  },
  {
   "cell_type": "code",
   "execution_count": 44,
   "metadata": {},
   "outputs": [],
   "source": [
    "os.environ[\"GOOGLE_API_KEY\"] = \"your gemini key here\""
   ]
  },
  {
   "cell_type": "code",
   "execution_count": 45,
   "metadata": {},
   "outputs": [],
   "source": [
    "if \"GOOGLE_API_KEY\" not in os.environ:\n",
    "    os.environ[\"GOOGLE_API_KEY\"] = getpass(\"Provide your Google API key here\")"
   ]
  },
  {
   "cell_type": "code",
   "execution_count": 46,
   "metadata": {},
   "outputs": [],
   "source": [
    "llm=ChatGoogleGenerativeAI(model='gemini-1.5-flash')"
   ]
  },
  {
   "cell_type": "markdown",
   "metadata": {},
   "source": [
    "### Defining the tools (validation prompt and travel cost prediction)"
   ]
  },
  {
   "cell_type": "code",
   "execution_count": 47,
   "metadata": {},
   "outputs": [],
   "source": [
    "def validate_prompt(prompt):\n",
    "    query=(\n",
    "        f\"Your task is to validate the {prompt} if user has provided these info or not\",\n",
    "        \"Information to validate: Budget, Duration, season, travel style (like adventure, family, cultural), food prefrence, international destination or not, departure location\",\n",
    "        \"Just validate it on these info ask nothing else\"\n",
    "    )\n",
    "    validated=llm.invoke(query)\n",
    "    return validated"
   ]
  },
  {
   "cell_type": "code",
   "execution_count": 48,
   "metadata": {},
   "outputs": [],
   "source": [
    "prompt_validation_tool=Tool(\n",
    "    name='Prompt Validation Tool',\n",
    "    func=validate_prompt,\n",
    "    description='The task it to validate if the prompt contains all the necessary information to predict travel cost or not'\n",
    ")"
   ]
  },
  {
   "cell_type": "code",
   "execution_count": 49,
   "metadata": {},
   "outputs": [],
   "source": [
    "def predict_travel_cost(prompt):\n",
    "    query = (\n",
    "        f\"Your task is to provide top 5 location to visit based on {prompt}, nothing else.\"\n",
    "    )\n",
    "    response = llm.invoke(query)  \n",
    "    return response"
   ]
  },
  {
   "cell_type": "code",
   "execution_count": 50,
   "metadata": {},
   "outputs": [],
   "source": [
    "cost_prediction_tool=Tool(\n",
    "    name='Travel Cost Prediction Tool',\n",
    "    func=predict_travel_cost,\n",
    "    description='The task is to recommend places based on the prompt provided by the user'\n",
    ")"
   ]
  },
  {
   "cell_type": "code",
   "execution_count": 51,
   "metadata": {},
   "outputs": [],
   "source": [
    "def follow_up_question(prediction_result):\n",
    "    query=(\n",
    "        f\"Your task is to give answers to the follow up questions asked by the user on {prediction_result}\"\n",
    "    )\n",
    "    response=llm.invoke(query)\n",
    "    return response"
   ]
  },
  {
   "cell_type": "code",
   "execution_count": 52,
   "metadata": {},
   "outputs": [],
   "source": [
    "follow_up_question_tool=Tool(\n",
    "    name='Follow up questions Tool',\n",
    "    func=follow_up_question,\n",
    "    description='The task is to provide answers to the questions asked by the user based on the recommendation result'\n",
    ")"
   ]
  },
  {
   "cell_type": "markdown",
   "metadata": {},
   "source": [
    "### Creating the agent "
   ]
  },
  {
   "cell_type": "code",
   "execution_count": 53,
   "metadata": {},
   "outputs": [],
   "source": [
    "tools_recommendation=[prompt_validation_tool,cost_prediction_tool,follow_up_question_tool]\n",
    "tools_question=[follow_up_question_tool]\n",
    "memory = ConversationBufferWindowMemory(\n",
    "    memory_key='chat_history',\n",
    "    k=3,\n",
    "    return_messages=True\n",
    ")"
   ]
  },
  {
   "cell_type": "code",
   "execution_count": 54,
   "metadata": {},
   "outputs": [],
   "source": [
    "conversational_agent_recommendation=initialize_agent(\n",
    "    agent='chat-conversational-react-description',\n",
    "    tools=tools_recommendation,\n",
    "    llm=llm,\n",
    "    verbose=True,\n",
    "    max_iterations=3,\n",
    "    memory=memory\n",
    ")\n",
    "\n",
    "conversational_agent_question=initialize_agent(\n",
    "    agent='chat-conversational-react-description',\n",
    "    tools=tools_question,\n",
    "    llm=llm,\n",
    "    verbose=True,\n",
    "    max_iteration=3,\n",
    "    memory=memory\n",
    ")"
   ]
  },
  {
   "cell_type": "markdown",
   "metadata": {},
   "source": [
    "### Content generation function"
   ]
  },
  {
   "cell_type": "code",
   "execution_count": 55,
   "metadata": {},
   "outputs": [],
   "source": [
    "def validate_and_predict():\n",
    "    while True:\n",
    "        prompt = input()\n",
    "       \n",
    "        validation_result = conversational_agent_recommendation.run(f\"Validate the prompt if this contains all the info as provided to the tool: {prompt}\")\n",
    "        if \"not\" in validation_result:\n",
    "            print(f\"Prompt validation failed. Please provide more details. {validation_result}\")\n",
    "        else:\n",
    "            prediction_result = conversational_agent_recommendation.run(f\"Now recommend places according to tool: {prompt} \")\n",
    "            return prediction_result\n",
    "\n",
    "# prompt=\"\"\n",
    "# validation_result = conversational_agent.run(f\"Validate the prompt if this contains all the info as provided to the tool: {prompt}\")\n",
    "# prediction_result = conversational_agent.run(f\"Now recommend places according to tool: {prompt} \")\n",
    "# prediction_resultrecommend me places to visit for adventure during summer from rishikesh no international travel with a budget of 50k for a week and the food preference is veg only"
   ]
  },
  {
   "cell_type": "code",
   "execution_count": null,
   "metadata": {},
   "outputs": [
    {
     "name": "stdout",
     "output_type": "stream",
     "text": [
      "\n",
      "\n",
      "\u001b[1m> Entering new AgentExecutor chain...\u001b[0m\n",
      "\u001b[32;1m\u001b[1;3m```json\n",
      "{\n",
      "  \"action\": \"Prompt Validation Tool\",\n",
      "  \"action_input\": \"recommend me places to visit for adventure during summer from rishikesh no international travel with a budget of 50k for a week and the food preference is veg only\"\n",
      "}\n",
      "```\u001b[0m\n",
      "Observation: \u001b[36;1m\u001b[1;3mcontent='The information provided is sufficient for validation. We have:\\n\\n* **Budget:** 50k\\n* **Duration:** 1 week\\n* **Season:** Summer\\n* **Travel style:** Adventure\\n* **Food preference:** Veg\\n* **International destination:** No\\n* **Departure location:** Rishikesh \\n' additional_kwargs={} response_metadata={'prompt_feedback': {'block_reason': 0, 'safety_ratings': []}, 'finish_reason': 'STOP', 'safety_ratings': [{'category': 'HARM_CATEGORY_SEXUALLY_EXPLICIT', 'probability': 'NEGLIGIBLE', 'blocked': False}, {'category': 'HARM_CATEGORY_HATE_SPEECH', 'probability': 'NEGLIGIBLE', 'blocked': False}, {'category': 'HARM_CATEGORY_HARASSMENT', 'probability': 'NEGLIGIBLE', 'blocked': False}, {'category': 'HARM_CATEGORY_DANGEROUS_CONTENT', 'probability': 'NEGLIGIBLE', 'blocked': False}]} id='run-54597100-984d-4161-b9a4-1fb78f84d7a3-0' usage_metadata={'input_tokens': 91, 'output_tokens': 63, 'total_tokens': 154}\u001b[0m\n",
      "Thought:\u001b[32;1m\u001b[1;3m```json\n",
      "{\n",
      "  \"action\": \"Final Answer\",\n",
      "  \"action_input\": \"The prompt you provided contains all the necessary information for recommending places to visit. You mentioned a budget of 50k, a week-long trip during summer, a preference for adventure travel, vegetarian food, and a starting point in Rishikesh. You also specified that you're looking for destinations within India.  \"\n",
      "}\n",
      "```\u001b[0m\n",
      "\n",
      "\u001b[1m> Finished chain.\u001b[0m\n",
      "\n",
      "\n",
      "\u001b[1m> Entering new AgentExecutor chain...\u001b[0m\n",
      "\u001b[32;1m\u001b[1;3m```json\n",
      "{\n",
      "    \"action\": \"Travel Cost Prediction Tool\",\n",
      "    \"action_input\": \"recommend me places to visit for adventure during summer from rishikesh no international travel with a budget of 50k for a week and the food preference is veg only\"\n",
      "}\n",
      "```\u001b[0m\n",
      "Observation: \u001b[33;1m\u001b[1;3mcontent='## Top 5 Adventure Destinations from Rishikesh (Veg-Friendly & Budget-Friendly):\\n\\n**1.  Haridwar (1.5 hours drive):**\\n\\n* **Adventure:**  \\n    * **White Water Rafting:**  Enjoy a thrilling rafting experience on the Ganges, with various rapids to choose from.\\n    * **Bungee Jumping and Giant Swing:**  Get your adrenaline pumping with these exhilarating activities. \\n    * **Rock Climbing:**  Explore the nearby cliffs for a challenging and rewarding climb.\\n* **Veg-Friendly:**  Haridwar is a religious city with plenty of vegetarian options, including street food, restaurants, and cafes.\\n* **Budget:**  Accommodation and activities are affordable, fitting well within your budget.\\n\\n**2.  Dehradun (2 hours drive):**\\n\\n* **Adventure:**  \\n    * **Trekking:**  Explore the scenic trails of the Shivalik hills, with varying levels of difficulty.\\n    * **Cycling:**  Enjoy a leisurely or challenging bike ride through the beautiful landscapes.\\n    * **Wildlife Safari:**  Visit Rajaji National Park for a chance to spot elephants, tigers, and other wildlife.\\n* **Veg-Friendly:**  Dehradun offers a wide range of vegetarian restaurants, from traditional Indian cuisine to international fare.\\n* **Budget:**  Accommodation and activities are reasonably priced, making Dehradun a good choice for budget travelers.\\n\\n**3.  Mussoorie (6 hours drive):**\\n\\n* **Adventure:**  \\n    * **Hiking:**  Explore the numerous trails around Mussoorie, offering breathtaking views of the Himalayas.\\n    * **Cable Car Ride:**  Take a scenic ride on the cable car to Gun Hill for panoramic views.\\n    * **Horse Riding:**  Enjoy a leisurely horseback ride through the picturesque hills.\\n* **Veg-Friendly:**  Mussoorie has a good selection of vegetarian restaurants, serving everything from street food to fine dining.\\n* **Budget:**  Accommodation can be a bit pricier in Mussoorie, but you can find budget-friendly options and plan your activities accordingly.\\n\\n**4.  Auli (8 hours drive):**\\n\\n* **Adventure:**  \\n    * **Skiing and Snowboarding:**  Enjoy winter sports in the snow-covered slopes of Auli.\\n    * **Trekking:**  Explore the stunning landscapes of the Himalayas with challenging treks.\\n    * **Cable Car Ride:**  Take a scenic cable car ride to the top of the mountain for incredible views.\\n* **Veg-Friendly:**  While limited, you can find vegetarian options in Auli, and most restaurants are willing to accommodate special requests.\\n* **Budget:**  Auli can be a bit expensive, especially during peak season. Consider travelling during off-season for better deals.\\n\\n**5.  Valley of Flowers National Park (10 hours drive):**\\n\\n* **Adventure:**  \\n    * **Trekking:**  Explore the breathtaking beauty of the Valley of Flowers, with numerous trails for different fitness levels.\\n    * **Wildlife Viewing:**  Spot various species of birds and animals in their natural habitat.\\n    * **Photography:**  Capture the stunning beauty of the flowers and landscapes.\\n* **Veg-Friendly:**  Limited options available, but you can bring your own food or find basic vegetarian meals at nearby villages.\\n* **Budget:**  Accommodation and transportation can be costly, so plan accordingly.\\n\\n**Important Considerations:**\\n\\n* **Travel Time:** Factor in travel time between destinations, as it can be significant.\\n* **Weather:**  Summer in the Himalayas can be unpredictable, so be prepared for changing weather conditions.\\n* **Accommodation:**  Book your accommodation in advance, especially during peak season.\\n* **Food:**  Carry some snacks and water with you, especially during treks.\\n* **Safety:**  Always prioritize safety and follow local guidelines.\\n\\n**Remember:** This is just a starting point. You can customize your itinerary based on your interests and budget. Enjoy your adventure!' additional_kwargs={} response_metadata={'prompt_feedback': {'block_reason': 0, 'safety_ratings': []}, 'finish_reason': 'STOP', 'safety_ratings': [{'category': 'HARM_CATEGORY_SEXUALLY_EXPLICIT', 'probability': 'NEGLIGIBLE', 'blocked': False}, {'category': 'HARM_CATEGORY_HATE_SPEECH', 'probability': 'NEGLIGIBLE', 'blocked': False}, {'category': 'HARM_CATEGORY_HARASSMENT', 'probability': 'NEGLIGIBLE', 'blocked': False}, {'category': 'HARM_CATEGORY_DANGEROUS_CONTENT', 'probability': 'NEGLIGIBLE', 'blocked': False}]} id='run-d51c81d0-2a7d-4049-8b3f-2f346afa44b9-0' usage_metadata={'input_tokens': 52, 'output_tokens': 839, 'total_tokens': 891}\u001b[0m\n",
      "Thought:\u001b[32;1m\u001b[1;3m```json\n",
      "{\n",
      "    \"action\": \"Final Answer\",\n",
      "    \"action_input\": \"Based on the information provided, here are some recommended adventure destinations within a week's trip from Rishikesh, keeping in mind your budget and vegetarian food preference: \\n\\n1. **Haridwar:**  A short drive from Rishikesh, Haridwar offers white water rafting, bungee jumping, giant swing, and rock climbing. It's known for its many vegetarian food options, making it a good choice for your dietary needs. \\n2. **Dehradun:**  Another nearby destination, Dehradun provides opportunities for trekking, cycling, and wildlife safaris in Rajaji National Park. You'll find a wide variety of vegetarian restaurants in Dehradun.\\n3. **Mussoorie:**  A scenic hill station, Mussoorie offers hiking, cable car rides, and horseback riding. While accommodation might be slightly pricier, you can find budget-friendly options and enjoy vegetarian cuisine. \\n\\nThese destinations offer a good balance of adventure activities, vegetarian food options, and affordability within your budget. Consider these options and choose the one that best suits your preferences.\"\n",
      "}\n",
      "```\u001b[0m\n",
      "\n",
      "\u001b[1m> Finished chain.\u001b[0m\n",
      "Based on the information provided, here are some recommended adventure destinations within a week's trip from Rishikesh, keeping in mind your budget and vegetarian food preference: \n",
      "\n",
      "1. **Haridwar:**  A short drive from Rishikesh, Haridwar offers white water rafting, bungee jumping, giant swing, and rock climbing. It's known for its many vegetarian food options, making it a good choice for your dietary needs. \n",
      "2. **Dehradun:**  Another nearby destination, Dehradun provides opportunities for trekking, cycling, and wildlife safaris in Rajaji National Park. You'll find a wide variety of vegetarian restaurants in Dehradun.\n",
      "3. **Mussoorie:**  A scenic hill station, Mussoorie offers hiking, cable car rides, and horseback riding. While accommodation might be slightly pricier, you can find budget-friendly options and enjoy vegetarian cuisine. \n",
      "\n",
      "These destinations offer a good balance of adventure activities, vegetarian food options, and affordability within your budget. Consider these options and choose the one that best suits your preferences.\n",
      "\n",
      "\n",
      "\u001b[1m> Entering new AgentExecutor chain...\u001b[0m\n",
      "\u001b[32;1m\u001b[1;3m```json\n",
      "{\n",
      "    \"action\": \"Prompt Validation Tool\",\n",
      "    \"action_input\": \"Validate the prompt if this contains all the info as provided to the tool: recommend me places to visit for adventure during summer from rishikesh no international travel with a budget of 50k for a week and the food preference is veg only\"\n",
      "}\n",
      "```\u001b[0m\n",
      "Observation: \u001b[36;1m\u001b[1;3mcontent='The prompt contains the following information:\\n\\n* **Budget:** 50k\\n* **Duration:** One week\\n* **Season:** Summer\\n* **Travel style:** Adventure\\n* **Food preference:** Veg only\\n* **International destination:** No\\n* **Departure location:** Rishikesh\\n\\n**Therefore, the prompt contains all the required information.** \\n' additional_kwargs={} response_metadata={'prompt_feedback': {'block_reason': 0, 'safety_ratings': []}, 'finish_reason': 'STOP', 'safety_ratings': [{'category': 'HARM_CATEGORY_SEXUALLY_EXPLICIT', 'probability': 'NEGLIGIBLE', 'blocked': False}, {'category': 'HARM_CATEGORY_HATE_SPEECH', 'probability': 'NEGLIGIBLE', 'blocked': False}, {'category': 'HARM_CATEGORY_HARASSMENT', 'probability': 'NEGLIGIBLE', 'blocked': False}, {'category': 'HARM_CATEGORY_DANGEROUS_CONTENT', 'probability': 'NEGLIGIBLE', 'blocked': False}]} id='run-6633333a-cd4f-4eb1-b056-b547a12cab1b-0' usage_metadata={'input_tokens': 106, 'output_tokens': 71, 'total_tokens': 177}\u001b[0m\n",
      "Thought:\u001b[32;1m\u001b[1;3m```json\n",
      "{\n",
      "    \"action\": \"Final Answer\",\n",
      "    \"action_input\": \"The prompt contains all the necessary information: a budget of 50k, a week-long trip during summer, a preference for adventure travel, vegetarian food, and a starting point in Rishikesh. You also specified that you're looking for destinations within India.\"\n",
      "}\n",
      "```\u001b[0m\n",
      "\n",
      "\u001b[1m> Finished chain.\u001b[0m\n",
      "\n",
      "\n",
      "\u001b[1m> Entering new AgentExecutor chain...\u001b[0m\n",
      "\u001b[32;1m\u001b[1;3m```json\n",
      "{\n",
      "  \"action\": \"Prompt Validation Tool\",\n",
      "  \"action_input\": \"recommend me places to visit for adventure during summer from rishikesh no international travel with a budget of 50k for a week and the food preference is veg only\"\n",
      "}\n",
      "```\u001b[0m\n",
      "Observation: \u001b[36;1m\u001b[1;3mcontent=\"The information provided is sufficient for validation. \\n\\n**Here's what we have:**\\n\\n* **Budget:** 50k\\n* **Duration:** 1 week\\n* **Season:** Summer\\n* **Travel Style:** Adventure\\n* **Food Preference:** Vegetarian\\n* **International Travel:** No\\n* **Departure Location:** Rishikesh \\n\" additional_kwargs={} response_metadata={'prompt_feedback': {'block_reason': 0, 'safety_ratings': []}, 'finish_reason': 'STOP', 'safety_ratings': [{'category': 'HARM_CATEGORY_SEXUALLY_EXPLICIT', 'probability': 'NEGLIGIBLE', 'blocked': False}, {'category': 'HARM_CATEGORY_HATE_SPEECH', 'probability': 'NEGLIGIBLE', 'blocked': False}, {'category': 'HARM_CATEGORY_HARASSMENT', 'probability': 'NEGLIGIBLE', 'blocked': False}, {'category': 'HARM_CATEGORY_DANGEROUS_CONTENT', 'probability': 'NEGLIGIBLE', 'blocked': False}]} id='run-98dd20e9-3182-4916-b03d-87e3b338c2fe-0' usage_metadata={'input_tokens': 91, 'output_tokens': 70, 'total_tokens': 161}\u001b[0m\n",
      "Thought:\u001b[32;1m\u001b[1;3m```json\n",
      "{\n",
      "  \"action\": \"Travel Cost Prediction Tool\",\n",
      "  \"action_input\": \"recommend me places to visit for adventure during summer from rishikesh no international travel with a budget of 50k for a week and the food preference is veg only\"\n",
      "}\n",
      "```\u001b[0m\n",
      "Observation: \u001b[33;1m\u001b[1;3mcontent='## Top 5 Adventure Locations from Rishikesh (Summer, Vegetarian, 50k Budget, 1 Week):\\n\\n**1. Jim Corbett National Park (Nainital):**\\n\\n* **Adventure:** Wildlife safaris, jungle treks, birdwatching, nature walks.\\n* **Distance:** ~ 6 hours drive from Rishikesh\\n* **Budget:**  Accommodation and safaris can be managed within your budget.\\n* **Vegetarian Food:** Plenty of options available within the park and nearby towns.\\n* **Why:** Immerse yourself in the wild, experience the thrill of spotting tigers, elephants, and other exotic animals.\\n\\n**2. Auli (Uttarakhand):**\\n\\n* **Adventure:** Skiing (winter), hiking, trekking, paragliding, cable car rides. \\n* **Distance:** ~ 8 hours drive from Rishikesh\\n* **Budget:**  Accommodation and activities within your budget.\\n* **Vegetarian Food:** Plenty of options available in Auli and nearby Joshimath.\\n* **Why:** Enjoy breathtaking views of the Himalayas and experience the thrill of adventure activities.\\n\\n**3. Valley of Flowers National Park (Uttarakhand):**\\n\\n* **Adventure:** Trekking, hiking, camping, photography.\\n* **Distance:** ~ 6 hours drive from Rishikesh\\n* **Budget:**  Accommodation and trekking within your budget.\\n* **Vegetarian Food:** Limited options within the park, carry your own snacks.\\n* **Why:** Witness the vibrant beauty of the Valley of Flowers, a UNESCO World Heritage Site.\\n\\n**4. Lansdowne (Uttarakhand):**\\n\\n* **Adventure:** Hiking, nature walks, birdwatching, trekking, boating.\\n* **Distance:** ~ 6 hours drive from Rishikesh\\n* **Budget:**  Accommodation and activities within your budget.\\n* **Vegetarian Food:** Plenty of options available in Lansdowne.\\n* **Why:** Enjoy the tranquility of the hills, explore colonial architecture, and indulge in nature.\\n\\n**5. Haridwar & Rishikesh (Uttarakhand):**\\n\\n* **Adventure:** Rafting, kayaking, rock climbing, bungee jumping, ziplining.\\n* **Distance:**  Within Rishikesh itself.\\n* **Budget:**  Activities and accommodation within your budget.\\n* **Vegetarian Food:** Ample options available in both cities.\\n* **Why:** Combine adventure with spiritual experiences, explore the holy cities of Haridwar and Rishikesh.\\n\\n**Tips:**\\n\\n* Book accommodation and activities in advance, especially during peak season.\\n* Carry comfortable walking shoes and appropriate clothing for the weather.\\n* Pack light and carry essential items like sunscreen, insect repellent, and a water bottle.\\n* Respect the environment and avoid littering.\\n* Enjoy your adventure!\\n\\n**Note:** \\n\\n* This is just a suggestion, you can customize your itinerary based on your interests and budget.\\n* Prices may vary depending on the time of year and the specific activities you choose.\\n* Always check the weather forecast before you go.' additional_kwargs={} response_metadata={'prompt_feedback': {'block_reason': 0, 'safety_ratings': []}, 'finish_reason': 'STOP', 'safety_ratings': [{'category': 'HARM_CATEGORY_SEXUALLY_EXPLICIT', 'probability': 'NEGLIGIBLE', 'blocked': False}, {'category': 'HARM_CATEGORY_HATE_SPEECH', 'probability': 'NEGLIGIBLE', 'blocked': False}, {'category': 'HARM_CATEGORY_HARASSMENT', 'probability': 'NEGLIGIBLE', 'blocked': False}, {'category': 'HARM_CATEGORY_DANGEROUS_CONTENT', 'probability': 'NEGLIGIBLE', 'blocked': False}]} id='run-699919bf-6373-49a1-ac39-473a0e916860-0' usage_metadata={'input_tokens': 52, 'output_tokens': 624, 'total_tokens': 676}\u001b[0m\n",
      "Thought:\u001b[32;1m\u001b[1;3m```json\n",
      "{\n",
      "  \"action\": \"Final Answer\",\n",
      "  \"action_input\": \"Based on your budget, time frame, and preferences, here are some recommended adventure destinations from Rishikesh: Jim Corbett National Park, Auli, Valley of Flowers National Park, Lansdowne, and Haridwar/Rishikesh itself. Each location offers unique experiences and options for adventure activities. Remember to book accommodation and activities in advance, especially during peak season. You can customize your itinerary based on your interests and budget.\"\n",
      "}\n",
      "```\u001b[0m\n",
      "\n",
      "\u001b[1m> Finished chain.\u001b[0m\n",
      "Based on your budget, time frame, and preferences, here are some recommended adventure destinations from Rishikesh: Jim Corbett National Park, Auli, Valley of Flowers National Park, Lansdowne, and Haridwar/Rishikesh itself. Each location offers unique experiences and options for adventure activities. Remember to book accommodation and activities in advance, especially during peak season. You can customize your itinerary based on your interests and budget.\n"
     ]
    }
   ],
   "source": [
    "result = validate_and_predict()\n",
    "print(result)"
   ]
  }
 ],
 "metadata": {
  "kernelspec": {
   "display_name": "Python 3",
   "language": "python",
   "name": "python3"
  },
  "language_info": {
   "codemirror_mode": {
    "name": "ipython",
    "version": 3
   },
   "file_extension": ".py",
   "mimetype": "text/x-python",
   "name": "python",
   "nbconvert_exporter": "python",
   "pygments_lexer": "ipython3",
   "version": "3.12.7"
  }
 },
 "nbformat": 4,
 "nbformat_minor": 2
}
